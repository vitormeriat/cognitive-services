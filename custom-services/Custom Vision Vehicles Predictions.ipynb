{
 "cells": [
  {
   "cell_type": "code",
   "execution_count": 1,
   "metadata": {
    "collapsed": true
   },
   "outputs": [],
   "source": [
    "import time \n",
    "import urllib\n",
    "import cv2\n",
    "import requests\n",
    "import operator\n",
    "import numpy as np\n",
    "import json\n",
    "from IPython.display import Image as ipImage, display\n",
    "from __future__ import print_function\n",
    "import matplotlib.pyplot as plt\n",
    "%matplotlib inline \n",
    "\n",
    "_url = 'https://southcentralus.api.cognitive.microsoft.com/customvision/v1.0/Prediction/53514cb3-4d56-4fc6-bb61-eec38fd57505/url'\n",
    "_iterationId = '__ITERATION-ID__'\n",
    "_key = '__KEY__'"
   ]
  },
  {
   "cell_type": "code",
   "execution_count": 2,
   "metadata": {
    "collapsed": true
   },
   "outputs": [],
   "source": [
    "def processRequest( json, data, headers, params ):\n",
    "    _maxNumRetries=3\n",
    "    retries = 0\n",
    "    result = None\n",
    "\n",
    "    while True:\n",
    "\n",
    "        response = requests.request( 'post', _url, json = json, data = data, headers = headers, params = params )\n",
    "\n",
    "        if response.status_code == 429: \n",
    "\n",
    "            print( \"Message: %s\" % ( response.json()['error']['message'] ) )\n",
    "\n",
    "            if retries <= _maxNumRetries: \n",
    "                time.sleep(1) \n",
    "                retries += 1\n",
    "                continue\n",
    "            else: \n",
    "                print( 'Error: failed after retrying!' )\n",
    "                break\n",
    "\n",
    "        elif response.status_code == 200 or response.status_code == 201:\n",
    "\n",
    "            if 'content-length' in response.headers and int(response.headers['content-length']) == 0: \n",
    "                result = None \n",
    "            elif 'content-type' in response.headers and isinstance(response.headers['content-type'], str): \n",
    "                if 'application/json' in response.headers['content-type'].lower(): \n",
    "                    result = response.json() if response.content else None \n",
    "                elif 'image' in response.headers['content-type'].lower(): \n",
    "                    result = response.content\n",
    "        else:\n",
    "            print( \"Error code: %d\" % ( response.status_code ) )\n",
    "            print( \"Message: %s\" % ( response.json()['error']['message'] ) )\n",
    "\n",
    "        break\n",
    "        \n",
    "    return result"
   ]
  },
  {
   "cell_type": "code",
   "execution_count": 3,
   "metadata": {
    "collapsed": true
   },
   "outputs": [],
   "source": [
    "def prediction( url ):\n",
    "    headers = dict()\n",
    "    headers['Prediction-key'] = _key\n",
    "    headers['Content-Type'] = 'application/json' \n",
    "\n",
    "    json = { 'url': url } \n",
    "    data = None\n",
    "\n",
    "    params = urllib.parse.urlencode({\n",
    "        'iterationId': _iterationId,\n",
    "    })\n",
    "\n",
    "    result = processRequest( json, data, headers, params )\n",
    "    \n",
    "    return result"
   ]
  },
  {
   "cell_type": "markdown",
   "metadata": {},
   "source": [
    "# Prediction 1"
   ]
  },
  {
   "cell_type": "code",
   "execution_count": 4,
   "metadata": {},
   "outputs": [
    {
     "data": {
      "text/html": [
       "<img src=\"http://meriatblob.blob.core.windows.net/demos/cognitive/c2.jpg\" width=\"400\" height=\"400\"/>"
      ],
      "text/plain": [
       "<IPython.core.display.Image object>"
      ]
     },
     "metadata": {},
     "output_type": "display_data"
    }
   ],
   "source": [
    "urlImage = 'http://meriatblob.blob.core.windows.net/demos/cognitive/c2.jpg'\n",
    "img = ipImage(url=urlImage, width=400, height=400)\n",
    "display(img)\n",
    "\n",
    "p1 = prediction(urlImage)"
   ]
  },
  {
   "cell_type": "code",
   "execution_count": 5,
   "metadata": {},
   "outputs": [
    {
     "name": "stdout",
     "output_type": "stream",
     "text": [
      "{\n",
      "  \"Created\": \"2017-11-10T00:16:58.3371499Z\",\n",
      "  \"Id\": \"72c6d31f-4fb9-4e36-8de4-4da2cd7c9906\",\n",
      "  \"Iteration\": \"4d625305-256a-4398-a59c-0b2bd8572622\",\n",
      "  \"Predictions\": [\n",
      "    {\n",
      "      \"Probability\": 0.9998937,\n",
      "      \"Tag\": \"car\",\n",
      "      \"TagId\": \"d11f615d-76bb-4c91-97a8-7eb4d9d4d743\"\n",
      "    },\n",
      "    {\n",
      "      \"Probability\": 0.000217378125,\n",
      "      \"Tag\": \"motorbike\",\n",
      "      \"TagId\": \"638c9ead-f292-4b87-8341-c3d5bc6511b4\"\n",
      "    },\n",
      "    {\n",
      "      \"Probability\": 5.07693449e-06,\n",
      "      \"Tag\": \"airplane\",\n",
      "      \"TagId\": \"06218c8f-d09c-45b7-9dfa-dd64805b65e7\"\n",
      "    }\n",
      "  ],\n",
      "  \"Project\": \"53514cb3-4d56-4fc6-bb61-eec38fd57505\"\n",
      "}\n"
     ]
    }
   ],
   "source": [
    "print(json.dumps(p1, indent=2, sort_keys=True))"
   ]
  },
  {
   "cell_type": "markdown",
   "metadata": {},
   "source": [
    "# Prediction 2"
   ]
  },
  {
   "cell_type": "code",
   "execution_count": 6,
   "metadata": {},
   "outputs": [
    {
     "data": {
      "text/html": [
       "<img src=\"http://meriatblob.blob.core.windows.net/demos/cognitive/a1.jpg\" width=\"400\" height=\"400\"/>"
      ],
      "text/plain": [
       "<IPython.core.display.Image object>"
      ]
     },
     "metadata": {},
     "output_type": "display_data"
    }
   ],
   "source": [
    "urlImage = 'http://meriatblob.blob.core.windows.net/demos/cognitive/a1.jpg'\n",
    "img = ipImage(url=urlImage, width=400, height=400)\n",
    "display(img)\n",
    "\n",
    "p2 = prediction(urlImage)"
   ]
  },
  {
   "cell_type": "code",
   "execution_count": 7,
   "metadata": {},
   "outputs": [
    {
     "name": "stdout",
     "output_type": "stream",
     "text": [
      "{\n",
      "  \"Created\": \"2017-11-10T00:17:03.0174578Z\",\n",
      "  \"Id\": \"52b61fa1-695f-47ce-b962-a2f180cce282\",\n",
      "  \"Iteration\": \"4d625305-256a-4398-a59c-0b2bd8572622\",\n",
      "  \"Predictions\": [\n",
      "    {\n",
      "      \"Probability\": 1.0,\n",
      "      \"Tag\": \"airplane\",\n",
      "      \"TagId\": \"06218c8f-d09c-45b7-9dfa-dd64805b65e7\"\n",
      "    },\n",
      "    {\n",
      "      \"Probability\": 0.00152512325,\n",
      "      \"Tag\": \"motorbike\",\n",
      "      \"TagId\": \"638c9ead-f292-4b87-8341-c3d5bc6511b4\"\n",
      "    },\n",
      "    {\n",
      "      \"Probability\": 1.18272774e-12,\n",
      "      \"Tag\": \"car\",\n",
      "      \"TagId\": \"d11f615d-76bb-4c91-97a8-7eb4d9d4d743\"\n",
      "    }\n",
      "  ],\n",
      "  \"Project\": \"53514cb3-4d56-4fc6-bb61-eec38fd57505\"\n",
      "}\n"
     ]
    }
   ],
   "source": [
    "print(json.dumps(p2, indent=2, sort_keys=True))"
   ]
  },
  {
   "cell_type": "markdown",
   "metadata": {},
   "source": [
    "# Prediction 3"
   ]
  },
  {
   "cell_type": "code",
   "execution_count": 8,
   "metadata": {},
   "outputs": [
    {
     "data": {
      "text/html": [
       "<img src=\"http://meriatblob.blob.core.windows.net/demos/cognitive/m1.jpg\" width=\"400\" height=\"400\"/>"
      ],
      "text/plain": [
       "<IPython.core.display.Image object>"
      ]
     },
     "metadata": {},
     "output_type": "display_data"
    }
   ],
   "source": [
    "urlImage = 'http://meriatblob.blob.core.windows.net/demos/cognitive/m1.jpg'\n",
    "img = ipImage(url=urlImage, width=400, height=400)\n",
    "display(img)\n",
    "\n",
    "p3 = prediction(urlImage)"
   ]
  },
  {
   "cell_type": "code",
   "execution_count": 9,
   "metadata": {},
   "outputs": [
    {
     "name": "stdout",
     "output_type": "stream",
     "text": [
      "{\n",
      "  \"Created\": \"2017-11-10T00:17:14.6220838Z\",\n",
      "  \"Id\": \"1ee639b6-b222-4f4b-94c9-dcae66c1caa6\",\n",
      "  \"Iteration\": \"4d625305-256a-4398-a59c-0b2bd8572622\",\n",
      "  \"Predictions\": [\n",
      "    {\n",
      "      \"Probability\": 1.0,\n",
      "      \"Tag\": \"motorbike\",\n",
      "      \"TagId\": \"638c9ead-f292-4b87-8341-c3d5bc6511b4\"\n",
      "    },\n",
      "    {\n",
      "      \"Probability\": 5.22062e-08,\n",
      "      \"Tag\": \"airplane\",\n",
      "      \"TagId\": \"06218c8f-d09c-45b7-9dfa-dd64805b65e7\"\n",
      "    },\n",
      "    {\n",
      "      \"Probability\": 4.845612e-11,\n",
      "      \"Tag\": \"car\",\n",
      "      \"TagId\": \"d11f615d-76bb-4c91-97a8-7eb4d9d4d743\"\n",
      "    }\n",
      "  ],\n",
      "  \"Project\": \"53514cb3-4d56-4fc6-bb61-eec38fd57505\"\n",
      "}\n"
     ]
    }
   ],
   "source": [
    "print(json.dumps(p3, indent=2, sort_keys=True))"
   ]
  },
  {
   "cell_type": "code",
   "execution_count": null,
   "metadata": {
    "collapsed": true
   },
   "outputs": [],
   "source": []
  }
 ],
 "metadata": {
  "kernelspec": {
   "display_name": "Python 3",
   "language": "python",
   "name": "python3"
  },
  "language_info": {
   "codemirror_mode": {
    "name": "ipython",
    "version": 3
   },
   "file_extension": ".py",
   "mimetype": "text/x-python",
   "name": "python",
   "nbconvert_exporter": "python",
   "pygments_lexer": "ipython3",
   "version": "3.5.2"
  }
 },
 "nbformat": 4,
 "nbformat_minor": 2
}
